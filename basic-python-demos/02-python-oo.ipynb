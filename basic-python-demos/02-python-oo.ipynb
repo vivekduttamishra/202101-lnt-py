{
 "metadata": {
  "language_info": {
   "codemirror_mode": {
    "name": "ipython",
    "version": 3
   },
   "file_extension": ".py",
   "mimetype": "text/x-python",
   "name": "python",
   "nbconvert_exporter": "python",
   "pygments_lexer": "ipython3",
   "version": "3.9.4"
  },
  "orig_nbformat": 2,
  "kernelspec": {
   "name": "python394jvsc74a57bd063fd5069d213b44bf678585dea6b12cceca9941eaf7f819626cde1f2670de90d",
   "display_name": "Python 3.9.4 64-bit"
  },
  "metadata": {
   "interpreter": {
    "hash": "63fd5069d213b44bf678585dea6b12cceca9941eaf7f819626cde1f2670de90d"
   }
  }
 },
 "nbformat": 4,
 "nbformat_minor": 2,
 "cells": [
  {
   "source": [
    "# Object Modeling in Python\n",
    "\n",
    "An object generally contains three vital Identity\n",
    "\n",
    "\n",
    "1. Object's unique Identity:e.g. account number, veichle engine number, phones IMIE number\n",
    "2. Object Type Identity: Tiger, Eagle, AirPlane, Person etc\n",
    "3. Types generic identity: Tiger is an Animal\n",
    "\n",
    "An object would generally have\n",
    "* Some information defined as field\n",
    "* Some behavior/action that\n",
    "    * object performs: like a Car Moves\n",
    "    * You perform with object: like. you sit on chair\n",
    "\n",
    "## To create an Object you first need to create a class\n",
    "\n",
    "* A class provide type identity to an object.\n",
    "* You can create many objects of a type. Each object will have same properties with different values\n",
    "\n",
    "\n"
   ],
   "cell_type": "markdown",
   "metadata": {}
  },
  {
   "cell_type": "code",
   "execution_count": 1,
   "metadata": {},
   "outputs": [],
   "source": [
    "class Book:\n",
    "    pass"
   ]
  },
  {
   "source": [
    "### What is the value of an empty class?\n",
    "An empty class still --\n",
    "* allows you to create object\n",
    "* give unqiue id to every object\n",
    "* give objects a type identity\n",
    "\n"
   ],
   "cell_type": "markdown",
   "metadata": {}
  },
  {
   "cell_type": "code",
   "execution_count": 2,
   "metadata": {},
   "outputs": [],
   "source": [
    "book1=Book()\n",
    "book2=Book()\n",
    "\n"
   ]
  },
  {
   "source": [
    "### 1. Both books are of type Book"
   ],
   "cell_type": "markdown",
   "metadata": {}
  },
  {
   "cell_type": "code",
   "execution_count": 4,
   "metadata": {},
   "outputs": [
    {
     "output_type": "stream",
     "name": "stdout",
     "text": [
      "<class '__main__.Book'>\n<class '__main__.Book'>\n"
     ]
    }
   ],
   "source": [
    "print(type(book1))\n",
    "print(type(book2))"
   ]
  },
  {
   "source": [
    "### 2. Both books have unique identity"
   ],
   "cell_type": "markdown",
   "metadata": {}
  },
  {
   "cell_type": "code",
   "execution_count": 5,
   "metadata": {},
   "outputs": [
    {
     "output_type": "stream",
     "name": "stdout",
     "text": [
      "1990389684688\n1990389684544\n"
     ]
    }
   ],
   "source": [
    "print(id(book1))\n",
    "print(id(book2))"
   ]
  },
  {
   "source": [
    "## What about book details?\n",
    "\n",
    "we can add details to a book like title, author, price etc using dot operator\n"
   ],
   "cell_type": "markdown",
   "metadata": {}
  },
  {
   "cell_type": "code",
   "execution_count": 6,
   "metadata": {},
   "outputs": [],
   "source": [
    "class Book:\n",
    "    pass\n",
    "\n"
   ]
  },
  {
   "cell_type": "code",
   "execution_count": 7,
   "metadata": {},
   "outputs": [],
   "source": [
    "book1=Book()\n",
    "book1.title='The Accursed God'\n",
    "book1.author='Vivek Dutta Mishra'\n",
    "book1.price=336\n",
    "book1.rating=4.7\n",
    "\n",
    "book2=Book()\n",
    "book2.title='Asura'\n",
    "book2.author='Anand Neelkanth'\n",
    "book2.price=300\n",
    "book2.rating=4\n",
    "\n"
   ]
  },
  {
   "cell_type": "code",
   "execution_count": 8,
   "metadata": {},
   "outputs": [
    {
     "output_type": "stream",
     "name": "stdout",
     "text": [
      "The Accursed God\nAsura\n"
     ]
    }
   ],
   "source": [
    "print(book1.title)\n",
    "print(book2.title)"
   ]
  },
  {
   "source": [
    "### Object Related Methods/Operations"
   ],
   "cell_type": "markdown",
   "metadata": {}
  },
  {
   "cell_type": "code",
   "execution_count": 17,
   "metadata": {},
   "outputs": [],
   "source": [
    "class Book:\n",
    "    pass\n",
    "\n",
    "def set_book_info(book,title,author,price,rating):    \n",
    "    book.title=title\n",
    "    book.author=author\n",
    "    book.price=336\n",
    "    book.rating=4.7\n",
    "\n",
    "def print_book_info(book):\n",
    "    print(f'Title:\\t{book.title}')\n",
    "    print(f'Author:\\t{book.author}')\n",
    "    print(f'Price:\\t{book.price}')\n",
    "    print(f'Rating:\\t{book.rating}')"
   ]
  },
  {
   "cell_type": "code",
   "execution_count": 18,
   "metadata": {},
   "outputs": [],
   "source": [
    "book1=Book()\n",
    "set_book_info(book1,'The Accursed God', 'Vivek Dutta Mishra', 336, 4.7)\n",
    "\n",
    "book2=Book()\n",
    "set_book_info(book2,'Sins of Father', 'Jeffrey Archer', 200, 4)"
   ]
  },
  {
   "cell_type": "code",
   "execution_count": 19,
   "metadata": {},
   "outputs": [
    {
     "output_type": "stream",
     "name": "stdout",
     "text": [
      "Title:\tThe Accursed God\nAuthor:\tVivek Dutta Mishra\nPrice:\t336\nRating:\t4.7\n"
     ]
    }
   ],
   "source": [
    "print_book_info(book1)\n"
   ]
  },
  {
   "cell_type": "code",
   "execution_count": 20,
   "metadata": {},
   "outputs": [
    {
     "output_type": "stream",
     "name": "stdout",
     "text": [
      "Title:\tSins of Father\nAuthor:\tJeffrey Archer\nPrice:\t336\nRating:\t4.7\n"
     ]
    }
   ],
   "source": [
    "print_book_info(book2)"
   ]
  },
  {
   "source": [
    "### Note: Objects store information internally in a dictionary"
   ],
   "cell_type": "markdown",
   "metadata": {}
  },
  {
   "cell_type": "code",
   "execution_count": 21,
   "metadata": {},
   "outputs": [
    {
     "output_type": "execute_result",
     "data": {
      "text/plain": [
       "{'title': 'The Accursed God',\n",
       " 'author': 'Vivek Dutta Mishra',\n",
       " 'price': 336,\n",
       " 'rating': 4.7}"
      ]
     },
     "metadata": {},
     "execution_count": 21
    }
   ],
   "source": [
    "book1.__dict__"
   ]
  },
  {
   "cell_type": "code",
   "execution_count": 22,
   "metadata": {},
   "outputs": [
    {
     "output_type": "execute_result",
     "data": {
      "text/plain": [
       "{'title': 'Sins of Father',\n",
       " 'author': 'Jeffrey Archer',\n",
       " 'price': 336,\n",
       " 'rating': 4.7}"
      ]
     },
     "metadata": {},
     "execution_count": 22
    }
   ],
   "source": [
    "book2.__dict__"
   ]
  },
  {
   "cell_type": "code",
   "execution_count": 24,
   "metadata": {},
   "outputs": [
    {
     "output_type": "execute_result",
     "data": {
      "text/plain": [
       "True"
      ]
     },
     "metadata": {},
     "execution_count": 24
    }
   ],
   "source": [
    "'title' in book1.__dict__"
   ]
  },
  {
   "cell_type": "code",
   "execution_count": 25,
   "metadata": {},
   "outputs": [
    {
     "output_type": "execute_result",
     "data": {
      "text/plain": [
       "False"
      ]
     },
     "metadata": {},
     "execution_count": 25
    }
   ],
   "source": [
    "'name' in book1.__dict__"
   ]
  },
  {
   "source": [
    "## How to include the behaviors withing the object\n",
    "\n",
    "* so far we have created empty class\n",
    "```python\n",
    "class Book:\n",
    "    pass\n",
    "```\n",
    "\n",
    "* related methods like set_info and print_info are global functions\n",
    "\n",
    "* can we merge them in the class\n",
    "\n"
   ],
   "cell_type": "markdown",
   "metadata": {}
  },
  {
   "cell_type": "code",
   "execution_count": 30,
   "metadata": {},
   "outputs": [],
   "source": [
    "class Book:\n",
    "\n",
    "    def create(title,author,price,rating):    \n",
    "        book=Book()\n",
    "        book.set_info(title,author,price,rating)\n",
    "        return book\n",
    "\n",
    "    def set_info(book,title,author,price,rating):    \n",
    "        book.title=title\n",
    "        book.author=author\n",
    "        book.price=336\n",
    "        book.rating=4.7\n",
    "\n",
    "    def print_info(book):\n",
    "        print(f'Title:\\t{book.title}')\n",
    "        print(f'Author:\\t{book.author}')\n",
    "        print(f'Price:\\t{book.price}')\n",
    "        print(f'Rating:\\t{book.rating}')"
   ]
  },
  {
   "cell_type": "code",
   "execution_count": 31,
   "metadata": {},
   "outputs": [
    {
     "output_type": "stream",
     "name": "stdout",
     "text": [
      "Title:\tThe Accursed God\nAuthor:\tVivek Dutta Mishra\nPrice:\t336\nRating:\t4.7\n"
     ]
    }
   ],
   "source": [
    "book1=Book.create('The Accursed God', 'Vivek Dutta Mishra', 336, 4.7)\n",
    "\n",
    "Book.print_info(book1)\n"
   ]
  },
  {
   "cell_type": "code",
   "execution_count": 32,
   "metadata": {},
   "outputs": [
    {
     "output_type": "stream",
     "name": "stdout",
     "text": [
      "Title:\tThe Accursed God\nAuthor:\tVivek Dutta Mishra\nPrice:\t336\nRating:\t4.7\n"
     ]
    }
   ],
   "source": [
    "\n",
    "book2=Book.create('The Accursed God','Vivek Dutta Mishra',336, 4.7)\n",
    "\n",
    "book2.print_info()"
   ]
  },
  {
   "source": [
    "## Important\n",
    "\n",
    "* When you add a method inside a class, it can be called using Class Reference\n",
    "* It can also be called using Object Reference\n",
    "* When you call a class method using Object reference, the object is automatically passed as the first parameter\n",
    "* It a class method takes anything other the object of the class as first parameter, it can't be invoked using object reference"
   ],
   "cell_type": "markdown",
   "metadata": {}
  },
  {
   "cell_type": "code",
   "execution_count": 33,
   "metadata": {},
   "outputs": [
    {
     "output_type": "error",
     "ename": "TypeError",
     "evalue": "create() takes 4 positional arguments but 5 were given",
     "traceback": [
      "\u001b[1;31m---------------------------------------------------------------------------\u001b[0m",
      "\u001b[1;31mTypeError\u001b[0m                                 Traceback (most recent call last)",
      "\u001b[1;32m<ipython-input-33-680de919e1de>\u001b[0m in \u001b[0;36m<module>\u001b[1;34m\u001b[0m\n\u001b[1;32m----> 1\u001b[1;33m \u001b[0mbook2\u001b[0m\u001b[1;33m.\u001b[0m\u001b[0mcreate\u001b[0m\u001b[1;33m(\u001b[0m\u001b[1;34m'The Accursed God'\u001b[0m\u001b[1;33m,\u001b[0m\u001b[1;34m'Vivek Dutta Mishra'\u001b[0m\u001b[1;33m,\u001b[0m\u001b[1;36m336\u001b[0m\u001b[1;33m,\u001b[0m\u001b[1;36m4.7\u001b[0m\u001b[1;33m)\u001b[0m\u001b[1;33m\u001b[0m\u001b[1;33m\u001b[0m\u001b[0m\n\u001b[0m",
      "\u001b[1;31mTypeError\u001b[0m: create() takes 4 positional arguments but 5 were given"
     ]
    }
   ],
   "source": [
    "book2.create('The Accursed God','Vivek Dutta Mishra',336,4.7)"
   ]
  },
  {
   "source": [
    "### How have I given 5 parameters?\n",
    "\n",
    "#### This beloow object reference code\n",
    "\n",
    "```python\n",
    "book2.create('The Accursed God','Vivek Dutta Mishra',336,4.7)\n",
    "```\n",
    "\n",
    "#### internally becomes\n",
    "\n",
    "\n",
    "```python\n",
    "Book.create(book2,'The Accursed God','Vivek Dutta Mishra',336,4.7)\n",
    "```\n"
   ],
   "cell_type": "markdown",
   "metadata": {}
  },
  {
   "source": [
    "## self parameter\n",
    "\n",
    "\n",
    "* Conventionally, Python community recommends, that the first parameter you pass to a class method (that represents the object of same class) should be named **self**\n",
    "* **self** is just a convention and not a python keyword. In our example above we have not used **self** rather we have used **book**\n",
    "* But we should ideally follow the convention\n",
    "\n",
    "### self\n",
    "\n",
    "* represents the invoking object. \n",
    "* object of the same class\n",
    "* self is like **this** keyword of c++/java/c#/javascript\n",
    "* but unlike **this**,  **self** is not a keyword. It's optional.\n",
    "\n",
    "\n",
    "\n"
   ],
   "cell_type": "markdown",
   "metadata": {}
  },
  {
   "cell_type": "code",
   "execution_count": 35,
   "metadata": {},
   "outputs": [],
   "source": [
    "class Book:\n",
    "\n",
    "    def create(title,author,price,rating):    \n",
    "        book=Book()\n",
    "        book.set_info(title,author,price,rating)\n",
    "        return book\n",
    "\n",
    "    def set_info(self,title,author,price,rating):    \n",
    "        self.title=title\n",
    "        self.author=author\n",
    "        self.price=336\n",
    "        self.rating=4.7\n",
    "\n",
    "    def print_info(self):\n",
    "        print(f'Title:\\t{self.title}')\n",
    "        print(f'Author:\\t{self.author}')\n",
    "        print(f'Price:\\t{self.price}')\n",
    "        print(f'Rating:\\t{self.rating}')"
   ]
  },
  {
   "cell_type": "code",
   "execution_count": 36,
   "metadata": {},
   "outputs": [
    {
     "output_type": "stream",
     "name": "stdout",
     "text": [
      "Title:\tThe Accursed God\nAuthor:\tVivek Dutta Mishra\nPrice:\t336\nRating:\t4.7\n"
     ]
    }
   ],
   "source": [
    "book1=Book()\n",
    "book1.set_info('The Accursed God','Vivek Dutta Mishra', 335,4.4)\n",
    "book1.print_info()"
   ]
  },
  {
   "cell_type": "code",
   "execution_count": 37,
   "metadata": {},
   "outputs": [
    {
     "output_type": "error",
     "ename": "TypeError",
     "evalue": "create() takes 4 positional arguments but 5 were given",
     "traceback": [
      "\u001b[1;31m---------------------------------------------------------------------------\u001b[0m",
      "\u001b[1;31mTypeError\u001b[0m                                 Traceback (most recent call last)",
      "\u001b[1;32m<ipython-input-37-8e426b3933e7>\u001b[0m in \u001b[0;36m<module>\u001b[1;34m\u001b[0m\n\u001b[0;32m      1\u001b[0m \u001b[0mbook2\u001b[0m\u001b[1;33m=\u001b[0m\u001b[0mBook\u001b[0m\u001b[1;33m(\u001b[0m\u001b[1;33m)\u001b[0m\u001b[1;33m\u001b[0m\u001b[1;33m\u001b[0m\u001b[0m\n\u001b[1;32m----> 2\u001b[1;33m \u001b[0mbook2\u001b[0m\u001b[1;33m.\u001b[0m\u001b[0mcreate\u001b[0m\u001b[1;33m(\u001b[0m\u001b[1;34m'The Accursed God'\u001b[0m\u001b[1;33m,\u001b[0m\u001b[1;34m'Vivek Dutta Mishra'\u001b[0m\u001b[1;33m,\u001b[0m\u001b[1;36m336\u001b[0m\u001b[1;33m,\u001b[0m\u001b[1;36m4.6\u001b[0m\u001b[1;33m)\u001b[0m\u001b[1;33m\u001b[0m\u001b[1;33m\u001b[0m\u001b[0m\n\u001b[0m",
      "\u001b[1;31mTypeError\u001b[0m: create() takes 4 positional arguments but 5 were given"
     ]
    }
   ],
   "source": [
    "book2=Book()\n",
    "book2.create('The Accursed God','Vivek Dutta Mishra',336,4.6)"
   ]
  },
  {
   "source": [
    "## class level vs object level version\n",
    "\n",
    "* A function that contains **self** parameter (first parameter of the same type as the class) it is called object level method\n",
    "    * it can be called using\n",
    "        * object reference (preffered)\n",
    "        * class reference\n",
    "* A function that doesn't contain **self** is considered class level or static method\n",
    "    * It can be called only using class reference and NOT using object reference\n",
    "    * We can marke these methods as @staticmethod  in our code\n",
    "        * The decoration is optional in python 3+ but compulsary in python 2\n",
    "\n",
    "    * In a @staticmethod the invoking object is not passed as a parameter"
   ],
   "cell_type": "markdown",
   "metadata": {}
  },
  {
   "cell_type": "code",
   "execution_count": 38,
   "metadata": {},
   "outputs": [],
   "source": [
    "class Book:\n",
    "\n",
    "    @staticmethod #can be called only using class\n",
    "    def create(title,author,price,rating):    \n",
    "        book=Book()\n",
    "        book.set_info(title,author,price,rating)\n",
    "        return book\n",
    "\n",
    "    def set_info(self,title,author,price,rating):    \n",
    "        self.title=title\n",
    "        self.author=author\n",
    "        self.price=336\n",
    "        self.rating=4.7\n",
    "\n",
    "    def print_info(self):\n",
    "        print(f'Title:\\t{self.title}')\n",
    "        print(f'Author:\\t{self.author}')\n",
    "        print(f'Price:\\t{self.price}')\n",
    "        print(f'Rating:\\t{self.rating}')"
   ]
  },
  {
   "cell_type": "code",
   "execution_count": 40,
   "metadata": {},
   "outputs": [
    {
     "output_type": "stream",
     "name": "stdout",
     "text": [
      "Title:\tThe Accursed God\nAuthor:\tVivek Dutta Mishra\nPrice:\t336\nRating:\t4.7\n"
     ]
    }
   ],
   "source": [
    "# calling static method\n",
    "\n",
    "book1=Book.create('The Accursed God','Vivek Dutta Mishra',336,4.6)\n",
    "\n",
    "# calling non-static method\n",
    "\n",
    "book1.print_info()"
   ]
  },
  {
   "cell_type": "code",
   "execution_count": null,
   "metadata": {},
   "outputs": [],
   "source": []
  }
 ]
}