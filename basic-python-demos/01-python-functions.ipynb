{
 "metadata": {
  "language_info": {
   "codemirror_mode": {
    "name": "ipython",
    "version": 3
   },
   "file_extension": ".py",
   "mimetype": "text/x-python",
   "name": "python",
   "nbconvert_exporter": "python",
   "pygments_lexer": "ipython3",
   "version": "3.9.4"
  },
  "orig_nbformat": 2,
  "kernelspec": {
   "name": "python394jvsc74a57bd063fd5069d213b44bf678585dea6b12cceca9941eaf7f819626cde1f2670de90d",
   "display_name": "Python 3.9.4 64-bit"
  },
  "metadata": {
   "interpreter": {
    "hash": "63fd5069d213b44bf678585dea6b12cceca9941eaf7f819626cde1f2670de90d"
   }
  }
 },
 "nbformat": 4,
 "nbformat_minor": 2,
 "cells": [
  {
   "cell_type": "code",
   "execution_count": 1,
   "metadata": {},
   "outputs": [],
   "source": [
    "def show(a,b,c,d):\n",
    "    print(a,b,c,d)"
   ]
  },
  {
   "cell_type": "code",
   "execution_count": 2,
   "metadata": {},
   "outputs": [
    {
     "output_type": "stream",
     "name": "stdout",
     "text": [
      "1 2 3 4\n"
     ]
    }
   ],
   "source": [
    "show(1,2,3,4)"
   ]
  },
  {
   "cell_type": "code",
   "execution_count": 3,
   "metadata": {},
   "outputs": [
    {
     "output_type": "error",
     "ename": "TypeError",
     "evalue": "show() missing 1 required positional argument: 'd'",
     "traceback": [
      "\u001b[1;31m---------------------------------------------------------------------------\u001b[0m",
      "\u001b[1;31mTypeError\u001b[0m                                 Traceback (most recent call last)",
      "\u001b[1;32m<ipython-input-3-67f09a25c21e>\u001b[0m in \u001b[0;36m<module>\u001b[1;34m\u001b[0m\n\u001b[1;32m----> 1\u001b[1;33m \u001b[0mshow\u001b[0m\u001b[1;33m(\u001b[0m\u001b[1;36m1\u001b[0m\u001b[1;33m,\u001b[0m\u001b[1;36m2\u001b[0m\u001b[1;33m,\u001b[0m\u001b[1;36m3\u001b[0m\u001b[1;33m)\u001b[0m\u001b[1;33m\u001b[0m\u001b[1;33m\u001b[0m\u001b[0m\n\u001b[0m",
      "\u001b[1;31mTypeError\u001b[0m: show() missing 1 required positional argument: 'd'"
     ]
    }
   ],
   "source": [
    "show(1,2,3)"
   ]
  },
  {
   "cell_type": "code",
   "execution_count": 4,
   "metadata": {},
   "outputs": [
    {
     "output_type": "error",
     "ename": "TypeError",
     "evalue": "show() takes 4 positional arguments but 5 were given",
     "traceback": [
      "\u001b[1;31m---------------------------------------------------------------------------\u001b[0m",
      "\u001b[1;31mTypeError\u001b[0m                                 Traceback (most recent call last)",
      "\u001b[1;32m<ipython-input-4-68f9ea7c6b9c>\u001b[0m in \u001b[0;36m<module>\u001b[1;34m\u001b[0m\n\u001b[1;32m----> 1\u001b[1;33m \u001b[0mshow\u001b[0m\u001b[1;33m(\u001b[0m\u001b[1;36m1\u001b[0m\u001b[1;33m,\u001b[0m\u001b[1;36m2\u001b[0m\u001b[1;33m,\u001b[0m\u001b[1;36m3\u001b[0m\u001b[1;33m,\u001b[0m\u001b[1;36m4\u001b[0m\u001b[1;33m,\u001b[0m\u001b[1;36m5\u001b[0m\u001b[1;33m)\u001b[0m\u001b[1;33m\u001b[0m\u001b[1;33m\u001b[0m\u001b[0m\n\u001b[0m",
      "\u001b[1;31mTypeError\u001b[0m: show() takes 4 positional arguments but 5 were given"
     ]
    }
   ],
   "source": [
    "show(1,2,3,4,5)"
   ]
  },
  {
   "cell_type": "code",
   "execution_count": 5,
   "metadata": {},
   "outputs": [],
   "source": [
    "def show(*values):\n",
    "    print(values)"
   ]
  },
  {
   "cell_type": "code",
   "execution_count": 6,
   "metadata": {},
   "outputs": [
    {
     "output_type": "stream",
     "name": "stdout",
     "text": [
      "(1, 2, 3)\n"
     ]
    }
   ],
   "source": [
    "show(1,2,3)"
   ]
  },
  {
   "cell_type": "code",
   "execution_count": 7,
   "metadata": {},
   "outputs": [
    {
     "output_type": "stream",
     "name": "stdout",
     "text": [
      "(1, 2, 3, 4, 5)\n"
     ]
    }
   ],
   "source": [
    "show(1,2,3,4,5)"
   ]
  },
  {
   "cell_type": "code",
   "execution_count": 8,
   "metadata": {},
   "outputs": [
    {
     "output_type": "stream",
     "name": "stdout",
     "text": [
      "()\n"
     ]
    }
   ],
   "source": [
    "show()"
   ]
  },
  {
   "cell_type": "code",
   "execution_count": 10,
   "metadata": {},
   "outputs": [
    {
     "output_type": "stream",
     "name": "stdout",
     "text": [
      "<class 'int'>\n<class 'str'>\n<class 'list'>\n"
     ]
    }
   ],
   "source": [
    "print(type(1))\n",
    "print(type('hello world'))\n",
    "print(type([1,2,3]))"
   ]
  },
  {
   "cell_type": "code",
   "execution_count": 11,
   "metadata": {},
   "outputs": [
    {
     "output_type": "stream",
     "name": "stdout",
     "text": [
      "('india', 'usa', 'uk')\n"
     ]
    }
   ],
   "source": [
    "show('india','usa','uk')"
   ]
  },
  {
   "cell_type": "code",
   "execution_count": 12,
   "metadata": {},
   "outputs": [],
   "source": [
    "a=[1,2,3,4]\n",
    "b=(1,2,3,4)\n",
    "\n"
   ]
  },
  {
   "cell_type": "code",
   "execution_count": 14,
   "metadata": {},
   "outputs": [
    {
     "output_type": "stream",
     "name": "stdout",
     "text": [
      "[1, 2, 100, 4]\n"
     ]
    }
   ],
   "source": [
    "a[2]=100\n",
    "print(a)"
   ]
  },
  {
   "cell_type": "code",
   "execution_count": 15,
   "metadata": {},
   "outputs": [
    {
     "output_type": "error",
     "ename": "TypeError",
     "evalue": "'tuple' object does not support item assignment",
     "traceback": [
      "\u001b[1;31m---------------------------------------------------------------------------\u001b[0m",
      "\u001b[1;31mTypeError\u001b[0m                                 Traceback (most recent call last)",
      "\u001b[1;32m<ipython-input-15-94ab6fae1cac>\u001b[0m in \u001b[0;36m<module>\u001b[1;34m\u001b[0m\n\u001b[1;32m----> 1\u001b[1;33m \u001b[0mb\u001b[0m\u001b[1;33m[\u001b[0m\u001b[1;36m2\u001b[0m\u001b[1;33m]\u001b[0m\u001b[1;33m=\u001b[0m\u001b[1;36m100\u001b[0m\u001b[1;33m\u001b[0m\u001b[1;33m\u001b[0m\u001b[0m\n\u001b[0m",
      "\u001b[1;31mTypeError\u001b[0m: 'tuple' object does not support item assignment"
     ]
    }
   ],
   "source": [
    "b[2]=100"
   ]
  },
  {
   "cell_type": "code",
   "execution_count": 17,
   "metadata": {},
   "outputs": [
    {
     "output_type": "stream",
     "name": "stdout",
     "text": [
      "<class 'tuple'> (1, 2, 3, 4)\n<class 'tuple'> ('india', 'usa', 'uk')\n"
     ]
    }
   ],
   "source": [
    "def show(*values):\n",
    "    print(type(values), values)\n",
    "\n",
    "show(1,2,3,4)\n",
    "show('india','usa','uk')"
   ]
  },
  {
   "source": [
    "# Problem statement\n",
    "Write a function **sum** to sum all the numbers that are passed to it"
   ],
   "cell_type": "markdown",
   "metadata": {}
  },
  {
   "cell_type": "code",
   "execution_count": 18,
   "metadata": {},
   "outputs": [],
   "source": [
    "def sum(*args):\n",
    "    result=0\n",
    "    for value in args:\n",
    "        result+=value\n",
    "    return result\n"
   ]
  },
  {
   "cell_type": "code",
   "execution_count": 19,
   "metadata": {},
   "outputs": [
    {
     "output_type": "stream",
     "name": "stdout",
     "text": [
      "10\n15\n0\n"
     ]
    }
   ],
   "source": [
    "print(sum(1,2,3,4))  #10\n",
    "print(sum(1,2,3,4,5)) #15\n",
    "print(sum()) #0\n"
   ]
  },
  {
   "source": [
    "## Problem #2 Assignment\n",
    "\n",
    "* using **sum** function above write an **average** function to average all the values that are passed\n",
    "* the average function should sum all the values using the given **sum** function.\n",
    "* average logic is : **sum_of_values/number_of_values**\n",
    "* it should then calucate average and return \n"
   ],
   "cell_type": "markdown",
   "metadata": {}
  },
  {
   "cell_type": "code",
   "execution_count": 21,
   "metadata": {},
   "outputs": [],
   "source": [
    "def sum(*args):\n",
    "    result=0\n",
    "    for value in args:\n",
    "        result+=value\n",
    "    return result\n",
    "\n",
    "def average(*args):\n",
    "    return sum(args)/len(args)"
   ]
  },
  {
   "cell_type": "code",
   "execution_count": 22,
   "metadata": {},
   "outputs": [
    {
     "output_type": "error",
     "ename": "TypeError",
     "evalue": "unsupported operand type(s) for +=: 'int' and 'tuple'",
     "traceback": [
      "\u001b[1;31m---------------------------------------------------------------------------\u001b[0m",
      "\u001b[1;31mTypeError\u001b[0m                                 Traceback (most recent call last)",
      "\u001b[1;32m<ipython-input-22-1f90c8697287>\u001b[0m in \u001b[0;36m<module>\u001b[1;34m\u001b[0m\n\u001b[1;32m----> 1\u001b[1;33m \u001b[0maverage\u001b[0m\u001b[1;33m(\u001b[0m\u001b[1;36m1\u001b[0m\u001b[1;33m,\u001b[0m\u001b[1;36m2\u001b[0m\u001b[1;33m,\u001b[0m\u001b[1;36m3\u001b[0m\u001b[1;33m,\u001b[0m\u001b[1;36m4\u001b[0m\u001b[1;33m)\u001b[0m\u001b[1;33m\u001b[0m\u001b[1;33m\u001b[0m\u001b[0m\n\u001b[0m",
      "\u001b[1;32m<ipython-input-21-fdce68d258eb>\u001b[0m in \u001b[0;36maverage\u001b[1;34m(*args)\u001b[0m\n\u001b[0;32m      6\u001b[0m \u001b[1;33m\u001b[0m\u001b[0m\n\u001b[0;32m      7\u001b[0m \u001b[1;32mdef\u001b[0m \u001b[0maverage\u001b[0m\u001b[1;33m(\u001b[0m\u001b[1;33m*\u001b[0m\u001b[0margs\u001b[0m\u001b[1;33m)\u001b[0m\u001b[1;33m:\u001b[0m\u001b[1;33m\u001b[0m\u001b[1;33m\u001b[0m\u001b[0m\n\u001b[1;32m----> 8\u001b[1;33m     \u001b[1;32mreturn\u001b[0m \u001b[0msum\u001b[0m\u001b[1;33m(\u001b[0m\u001b[0margs\u001b[0m\u001b[1;33m)\u001b[0m\u001b[1;33m/\u001b[0m\u001b[0mlen\u001b[0m\u001b[1;33m(\u001b[0m\u001b[0margs\u001b[0m\u001b[1;33m)\u001b[0m\u001b[1;33m\u001b[0m\u001b[1;33m\u001b[0m\u001b[0m\n\u001b[0m",
      "\u001b[1;32m<ipython-input-21-fdce68d258eb>\u001b[0m in \u001b[0;36msum\u001b[1;34m(*args)\u001b[0m\n\u001b[0;32m      2\u001b[0m     \u001b[0mresult\u001b[0m\u001b[1;33m=\u001b[0m\u001b[1;36m0\u001b[0m\u001b[1;33m\u001b[0m\u001b[1;33m\u001b[0m\u001b[0m\n\u001b[0;32m      3\u001b[0m     \u001b[1;32mfor\u001b[0m \u001b[0mvalue\u001b[0m \u001b[1;32min\u001b[0m \u001b[0margs\u001b[0m\u001b[1;33m:\u001b[0m\u001b[1;33m\u001b[0m\u001b[1;33m\u001b[0m\u001b[0m\n\u001b[1;32m----> 4\u001b[1;33m         \u001b[0mresult\u001b[0m\u001b[1;33m+=\u001b[0m\u001b[0mvalue\u001b[0m\u001b[1;33m\u001b[0m\u001b[1;33m\u001b[0m\u001b[0m\n\u001b[0m\u001b[0;32m      5\u001b[0m     \u001b[1;32mreturn\u001b[0m \u001b[0mresult\u001b[0m\u001b[1;33m\u001b[0m\u001b[1;33m\u001b[0m\u001b[0m\n\u001b[0;32m      6\u001b[0m \u001b[1;33m\u001b[0m\u001b[0m\n",
      "\u001b[1;31mTypeError\u001b[0m: unsupported operand type(s) for +=: 'int' and 'tuple'"
     ]
    }
   ],
   "source": [
    "average(1,2,3,4)"
   ]
  },
  {
   "cell_type": "code",
   "execution_count": 23,
   "metadata": {},
   "outputs": [],
   "source": [
    "def sum(*args):\n",
    "    result=0\n",
    "    for value in args:\n",
    "        result+=value\n",
    "    return result\n",
    "\n",
    "def average(*args):\n",
    "    return sum(*args)/len(args)"
   ]
  },
  {
   "cell_type": "code",
   "execution_count": 24,
   "metadata": {},
   "outputs": [
    {
     "output_type": "execute_result",
     "data": {
      "text/plain": [
       "2.5"
      ]
     },
     "metadata": {},
     "execution_count": 24
    }
   ],
   "source": [
    "average(1,2,3,4)"
   ]
  },
  {
   "cell_type": "code",
   "execution_count": 25,
   "metadata": {},
   "outputs": [],
   "source": [
    "numbers=[1,2,3,4,5]\n"
   ]
  },
  {
   "cell_type": "code",
   "execution_count": 26,
   "metadata": {},
   "outputs": [
    {
     "output_type": "error",
     "ename": "TypeError",
     "evalue": "unsupported operand type(s) for +=: 'int' and 'list'",
     "traceback": [
      "\u001b[1;31m---------------------------------------------------------------------------\u001b[0m",
      "\u001b[1;31mTypeError\u001b[0m                                 Traceback (most recent call last)",
      "\u001b[1;32m<ipython-input-26-9804d92740c9>\u001b[0m in \u001b[0;36m<module>\u001b[1;34m\u001b[0m\n\u001b[0;32m      1\u001b[0m \u001b[1;31m#what if I want to sum a list?\u001b[0m\u001b[1;33m\u001b[0m\u001b[1;33m\u001b[0m\u001b[1;33m\u001b[0m\u001b[0m\n\u001b[0;32m      2\u001b[0m \u001b[1;33m\u001b[0m\u001b[0m\n\u001b[1;32m----> 3\u001b[1;33m \u001b[0msum\u001b[0m\u001b[1;33m(\u001b[0m\u001b[0mnumbers\u001b[0m\u001b[1;33m)\u001b[0m\u001b[1;33m\u001b[0m\u001b[1;33m\u001b[0m\u001b[0m\n\u001b[0m",
      "\u001b[1;32m<ipython-input-23-e166e71a8759>\u001b[0m in \u001b[0;36msum\u001b[1;34m(*args)\u001b[0m\n\u001b[0;32m      2\u001b[0m     \u001b[0mresult\u001b[0m\u001b[1;33m=\u001b[0m\u001b[1;36m0\u001b[0m\u001b[1;33m\u001b[0m\u001b[1;33m\u001b[0m\u001b[0m\n\u001b[0;32m      3\u001b[0m     \u001b[1;32mfor\u001b[0m \u001b[0mvalue\u001b[0m \u001b[1;32min\u001b[0m \u001b[0margs\u001b[0m\u001b[1;33m:\u001b[0m\u001b[1;33m\u001b[0m\u001b[1;33m\u001b[0m\u001b[0m\n\u001b[1;32m----> 4\u001b[1;33m         \u001b[0mresult\u001b[0m\u001b[1;33m+=\u001b[0m\u001b[0mvalue\u001b[0m\u001b[1;33m\u001b[0m\u001b[1;33m\u001b[0m\u001b[0m\n\u001b[0m\u001b[0;32m      5\u001b[0m     \u001b[1;32mreturn\u001b[0m \u001b[0mresult\u001b[0m\u001b[1;33m\u001b[0m\u001b[1;33m\u001b[0m\u001b[0m\n\u001b[0;32m      6\u001b[0m \u001b[1;33m\u001b[0m\u001b[0m\n",
      "\u001b[1;31mTypeError\u001b[0m: unsupported operand type(s) for +=: 'int' and 'list'"
     ]
    }
   ],
   "source": [
    "#what if I want to sum a list?\n",
    "\n",
    "sum(numbers)"
   ]
  },
  {
   "cell_type": "code",
   "execution_count": 28,
   "metadata": {},
   "outputs": [
    {
     "output_type": "execute_result",
     "data": {
      "text/plain": [
       "15"
      ]
     },
     "metadata": {},
     "execution_count": 28
    }
   ],
   "source": [
    "sum(*numbers)  #spread the list"
   ]
  },
  {
   "source": [
    "## key-words argument function\n",
    "\n",
    "* Allows us to take keyword parameters (name-value parameter)\n",
    "* Generally it can be used for passing\n",
    "    * Optional parameters that may have some known defaults\n",
    "        * example: to start a server you need **port** and optional **server ip** (default to current machine)\n",
    "    * Parameters that may be mutually exclusive \n",
    "        * example. login using email/password or phone/OTP\n",
    "* We may need to store assorted information about different elements. \n",
    "    * Not all of them will have all values. \n",
    "    * We may not know all values that we may need at the runtime\n",
    "\n",
    "        "
   ],
   "cell_type": "markdown",
   "metadata": {}
  },
  {
   "cell_type": "code",
   "execution_count": 29,
   "metadata": {},
   "outputs": [],
   "source": [
    "def show(**values):\n",
    "    print(values)"
   ]
  },
  {
   "cell_type": "code",
   "execution_count": 30,
   "metadata": {},
   "outputs": [
    {
     "output_type": "stream",
     "name": "stdout",
     "text": [
      "{'a': 10, 'b': 20, 'c': 30}\n"
     ]
    }
   ],
   "source": [
    "show(a=10,b=20,c=30)"
   ]
  },
  {
   "cell_type": "code",
   "execution_count": 31,
   "metadata": {},
   "outputs": [],
   "source": [
    "def show(hardware,ip):\n",
    "    print(hardware,ip)"
   ]
  },
  {
   "cell_type": "code",
   "execution_count": 32,
   "metadata": {},
   "outputs": [
    {
     "output_type": "stream",
     "name": "stdout",
     "text": [
      "mac book pro 127.229.331.442\n"
     ]
    }
   ],
   "source": [
    "show('mac book pro','127.229.331.442')"
   ]
  },
  {
   "source": [
    "## How to create a start_server function\n",
    "* It should take a port number (rquired)\n",
    "* Optional parameter. \n",
    "    * server : default value 'localhost'\n",
    "    * useMultiThreads: default value True\n",
    "\n",
    "#### Note\n",
    "* this is to understand the function semantic and not actually creating a server logic\n",
    "* we need to just print the received parameters\n",
    "\n",
    "\n",
    "### Option #1 Pass separate parameters\n"
   ],
   "cell_type": "markdown",
   "metadata": {}
  },
  {
   "cell_type": "code",
   "execution_count": 40,
   "metadata": {},
   "outputs": [
    {
     "output_type": "stream",
     "name": "stdout",
     "text": [
      "port number 4000\nserver localhost\nmultiThreading True\n\nport number 3000\nserver localhost\nmultiThreading False\n\n"
     ]
    }
   ],
   "source": [
    "def start_server(port,server,multiThreading):\n",
    "    print('port number',port)\n",
    "    print('server',server)\n",
    "    print('multiThreading',multiThreading)\n",
    "    print()\n",
    "   \n",
    "\n",
    "start_server(4000, 'localhost', True)\n",
    "start_server(3000, 'localhost', False)\n",
    "\n"
   ]
  },
  {
   "source": [
    "#### Problem: How to use default arguments"
   ],
   "cell_type": "markdown",
   "metadata": {}
  },
  {
   "cell_type": "code",
   "execution_count": 41,
   "metadata": {},
   "outputs": [
    {
     "output_type": "error",
     "ename": "TypeError",
     "evalue": "start_server() missing 2 required positional arguments: 'server' and 'multiThreading'",
     "traceback": [
      "\u001b[1;31m---------------------------------------------------------------------------\u001b[0m",
      "\u001b[1;31mTypeError\u001b[0m                                 Traceback (most recent call last)",
      "\u001b[1;32m<ipython-input-41-c1b1bc821c66>\u001b[0m in \u001b[0;36m<module>\u001b[1;34m\u001b[0m\n\u001b[1;32m----> 1\u001b[1;33m \u001b[0mstart_server\u001b[0m\u001b[1;33m(\u001b[0m\u001b[1;36m3000\u001b[0m\u001b[1;33m)\u001b[0m\u001b[1;33m\u001b[0m\u001b[1;33m\u001b[0m\u001b[0m\n\u001b[0m",
      "\u001b[1;31mTypeError\u001b[0m: start_server() missing 2 required positional arguments: 'server' and 'multiThreading'"
     ]
    }
   ],
   "source": [
    "start_server(3000)"
   ]
  },
  {
   "source": [
    "### Option 2  Default Parameter Value\n",
    "\n",
    "* we can specify a default for parameters that is used when no value is supplied"
   ],
   "cell_type": "markdown",
   "metadata": {}
  },
  {
   "cell_type": "code",
   "execution_count": 48,
   "metadata": {},
   "outputs": [],
   "source": [
    "def start_server(port,server='localhost',multiThreading=True):\n",
    "    print('port number',port)\n",
    "    print('server',server)\n",
    "    print('multiThreading',multiThreading)\n",
    "    print()"
   ]
  },
  {
   "cell_type": "code",
   "execution_count": 49,
   "metadata": {},
   "outputs": [
    {
     "output_type": "stream",
     "name": "stdout",
     "text": [
      "port number 3000\nserver 124.221.220.1\nmultiThreading False\n\nport number 3000\nserver 124.221.220.1\nmultiThreading True\n\nport number 3000\nserver localhost\nmultiThreading True\n\n"
     ]
    },
    {
     "output_type": "error",
     "ename": "TypeError",
     "evalue": "start_server() missing 1 required positional argument: 'port'",
     "traceback": [
      "\u001b[1;31m---------------------------------------------------------------------------\u001b[0m",
      "\u001b[1;31mTypeError\u001b[0m                                 Traceback (most recent call last)",
      "\u001b[1;32m<ipython-input-49-09cd418e75d8>\u001b[0m in \u001b[0;36m<module>\u001b[1;34m\u001b[0m\n\u001b[0;32m      2\u001b[0m \u001b[0mstart_server\u001b[0m\u001b[1;33m(\u001b[0m\u001b[1;36m3000\u001b[0m\u001b[1;33m,\u001b[0m\u001b[1;34m'124.221.220.1'\u001b[0m\u001b[1;33m)\u001b[0m        \u001b[1;31m# user defined values used for port and server. default used for multiThreading\u001b[0m\u001b[1;33m\u001b[0m\u001b[1;33m\u001b[0m\u001b[0m\n\u001b[0;32m      3\u001b[0m \u001b[0mstart_server\u001b[0m\u001b[1;33m(\u001b[0m\u001b[1;36m3000\u001b[0m\u001b[1;33m)\u001b[0m\u001b[1;33m\u001b[0m\u001b[1;33m\u001b[0m\u001b[0m\n\u001b[1;32m----> 4\u001b[1;33m \u001b[0mstart_server\u001b[0m\u001b[1;33m(\u001b[0m\u001b[1;33m)\u001b[0m \u001b[1;31m# error because there is not default for port\u001b[0m\u001b[1;33m\u001b[0m\u001b[1;33m\u001b[0m\u001b[0m\n\u001b[0m",
      "\u001b[1;31mTypeError\u001b[0m: start_server() missing 1 required positional argument: 'port'"
     ]
    }
   ],
   "source": [
    "start_server(3000,'124.221.220.1',False)  # user defined values are used for all parameters\n",
    "start_server(3000,'124.221.220.1')        # user defined values used for port and server. default used for multiThreading\n",
    "start_server(3000)                       # user defined value for port, default for the remaining two\n",
    "start_server() # error because there is not default for port"
   ]
  },
  {
   "source": [
    "### Problem with default value passing\n",
    "\n",
    "* What if I want to specify port and multiThreading but not server name\n",
    "\n",
    "```python\n",
    "start_server(3000,True)\n",
    "```\n",
    "* Here we are supplying values for parameter port and server and not for port and multiThreading\n",
    "* Optional values are passed in the order parameters are mentioned"
   ],
   "cell_type": "markdown",
   "metadata": {}
  },
  {
   "cell_type": "code",
   "execution_count": 50,
   "metadata": {},
   "outputs": [],
   "source": [
    "def start_server(port,server='localhost',multiThreading=True):\n",
    "    print('port number',port)\n",
    "    print('server',server)\n",
    "    print('multiThreading',multiThreading)\n",
    "    print()"
   ]
  },
  {
   "cell_type": "code",
   "execution_count": 51,
   "metadata": {},
   "outputs": [
    {
     "output_type": "stream",
     "name": "stdout",
     "text": [
      "port number 4000\nserver False\nmultiThreading True\n\n"
     ]
    }
   ],
   "source": [
    "start_server(4000,False)   # where will False be assigned?"
   ]
  },
  {
   "source": [
    "### Solution --- Option 3 Named defaults\n",
    "\n",
    "* Default parameter function syntax will not change it will be same\n",
    "* we can pass values by name"
   ],
   "cell_type": "markdown",
   "metadata": {}
  },
  {
   "cell_type": "code",
   "execution_count": 52,
   "metadata": {},
   "outputs": [
    {
     "output_type": "stream",
     "name": "stdout",
     "text": [
      "port number 4000\nserver localhost\nmultiThreading False\n\n"
     ]
    }
   ],
   "source": [
    "start_server(4000, multiThreading=False)  #use default for server"
   ]
  },
  {
   "source": [
    "### Option 4 --- Keyword args\n",
    "\n",
    "* we can use **\\*\\*args** parameter \n",
    "* all values passed will be captured in dictionary\n",
    "* we can select default inside\n",
    "* we should pass required parameter as regular agurment\n",
    "\n",
    "#### Note: A keyword parameter is conventionally named as 'kwargs'\n",
    "* This is a convention not compulsion.\n",
    "\n"
   ],
   "cell_type": "markdown",
   "metadata": {}
  },
  {
   "cell_type": "code",
   "execution_count": 59,
   "metadata": {},
   "outputs": [],
   "source": [
    "def start_server(port, **kwargs):\n",
    "\n",
    "    server= kwargs.get('server','localhost') # if server is not present use localhost\n",
    "    multiThreading= kwargs.get('multiThreading',True) #default value for the key is True\n",
    "    print('kwargs',kwargs)\n",
    "    print('port number',port)\n",
    "    print('server',server)\n",
    "    print('multiThreading',multiThreading)\n",
    "    print()"
   ]
  },
  {
   "cell_type": "code",
   "execution_count": 61,
   "metadata": {},
   "outputs": [
    {
     "output_type": "stream",
     "name": "stdout",
     "text": [
      "kwargs {}\nport number 3000\nserver localhost\nmultiThreading True\n\nkwargs {'multiThreading': False}\nport number 3000\nserver localhost\nmultiThreading False\n\nkwargs {'multiThreading': 'optional', 'server': '223.212.110.1', 'timeout': 6000}\nport number 3000\nserver 223.212.110.1\nmultiThreading optional\n\n"
     ]
    }
   ],
   "source": [
    "start_server(3000)\n",
    "start_server(3000, multiThreading=False)\n",
    "start_server(3000, multiThreading='optional', server='223.212.110.1', timeout=6000)"
   ]
  },
  {
   "source": [
    "## How to create a login function that can either take email/password or phone number?\n",
    "\n",
    "#### Note\n",
    "\n",
    "* we are just creating function to undersand parameters\n",
    "* no real validation logic required at this stage\n",
    "\n",
    "\n",
    "### Option 1 --- named default parameter"
   ],
   "cell_type": "markdown",
   "metadata": {}
  },
  {
   "cell_type": "code",
   "execution_count": 62,
   "metadata": {},
   "outputs": [],
   "source": [
    "def login(email=None,password=None,phone=None):\n",
    "    if phone: \n",
    "        print(f'please check the OTP sent on the  {phone}')\n",
    "    elif email and password:\n",
    "        print(f'validation using email/password')\n",
    "    else:\n",
    "        print('Missing credentials')\n",
    "        "
   ]
  },
  {
   "cell_type": "code",
   "execution_count": 63,
   "metadata": {},
   "outputs": [
    {
     "output_type": "stream",
     "name": "stdout",
     "text": [
      "please check the OTP sent on the  94993939394\n"
     ]
    }
   ],
   "source": [
    "login(phone='94993939394')"
   ]
  },
  {
   "cell_type": "code",
   "execution_count": 65,
   "metadata": {},
   "outputs": [
    {
     "output_type": "stream",
     "name": "stdout",
     "text": [
      "validation using email/password\n"
     ]
    }
   ],
   "source": [
    "login(email='vivek@thelostepic.com',password='let me pass')"
   ]
  },
  {
   "cell_type": "code",
   "execution_count": 66,
   "metadata": {},
   "outputs": [
    {
     "output_type": "stream",
     "name": "stdout",
     "text": [
      "Missing credentials\n"
     ]
    }
   ],
   "source": [
    "login(email='vivek@thelostepic.com')"
   ]
  },
  {
   "source": [
    "### Option 2 --- keyword arguments\n",
    "\n",
    "## Aside --- Dictionary options\n",
    "\n",
    "* To check if a key is present in a Dictionary :  ** key in kwargs **\n",
    "* To get a value from dictionary using key\n",
    "    * use **[]** like  kwargs\\[key\\]\n",
    "        * returns value if it is present\n",
    "        * **raise exception** if it is not present\n",
    "    * use **.get()** like  **kwargs.get(key)**\n",
    "        * return value if key is present\n",
    "        * **returns None** if key is not present\n",
    "\n",
    "    * use **.get()** with optional second parameter  like --> **kwargs.get(key,defaultValue)**\n",
    "        * return value if key is present\n",
    "        * returns **defaultValue** if key is not present\n",
    "        \n"
   ],
   "cell_type": "markdown",
   "metadata": {}
  },
  {
   "cell_type": "code",
   "execution_count": 75,
   "metadata": {},
   "outputs": [],
   "source": [
    "def login(**kwargs):\n",
    "\n",
    "\n",
    "    if 'phone' in kwargs: # if phone is supplied\n",
    "        print(f'please check the OTP sent on the  {kwargs[\"phone\"]}')\n",
    "    elif 'email' in kwargs and 'password' in kwargs:  #if both email and password is supplied\n",
    "        print(f'validation using email {kwargs[\"email\"]}')\n",
    "    else:\n",
    "        print('Missing credentials')"
   ]
  },
  {
   "cell_type": "code",
   "execution_count": 76,
   "metadata": {},
   "outputs": [
    {
     "output_type": "stream",
     "name": "stdout",
     "text": [
      "please check the OTP sent on the  99339393993\n"
     ]
    }
   ],
   "source": [
    "login(phone='99339393993')"
   ]
  },
  {
   "cell_type": "code",
   "execution_count": 77,
   "metadata": {},
   "outputs": [
    {
     "output_type": "stream",
     "name": "stdout",
     "text": [
      "validation using email vivek@thelostepic.com\n"
     ]
    }
   ],
   "source": [
    "login(password='let me pass', email='vivek@thelostepic.com')"
   ]
  },
  {
   "cell_type": "code",
   "execution_count": 78,
   "metadata": {},
   "outputs": [
    {
     "output_type": "stream",
     "name": "stdout",
     "text": [
      "Missing credentials\n"
     ]
    }
   ],
   "source": [
    "login(password='let me pass')"
   ]
  },
  {
   "cell_type": "code",
   "execution_count": 79,
   "metadata": {},
   "outputs": [
    {
     "output_type": "stream",
     "name": "stdout",
     "text": [
      "Missing credentials\n"
     ]
    }
   ],
   "source": [
    "login(email='vivek@thelostepic.com')"
   ]
  },
  {
   "cell_type": "code",
   "execution_count": 84,
   "metadata": {},
   "outputs": [],
   "source": [
    "title='The Accursed God'\n",
    "author='Vivek Dutta Mishra'\n",
    "\n",
    "\n",
    "message=f'The Book {title.upper()} is written by {author.upper()}'"
   ]
  },
  {
   "cell_type": "code",
   "execution_count": 85,
   "metadata": {},
   "outputs": [
    {
     "output_type": "stream",
     "name": "stdout",
     "text": [
      "The Book THE ACCURSED GOD is written by VIVEK DUTTA MISHRA\n"
     ]
    }
   ],
   "source": [
    "print(message)"
   ]
  },
  {
   "cell_type": "code",
   "execution_count": null,
   "metadata": {},
   "outputs": [],
   "source": []
  }
 ]
}